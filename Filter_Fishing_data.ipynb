{
 "cells": [
  {
   "cell_type": "code",
   "execution_count": 32,
   "metadata": {},
   "outputs": [],
   "source": [
    "import geopandas as gpd\n",
    "import pandas as pd \n",
    "import glob\n",
    "import os\n",
    "from shapely.geometry import Point\n",
    "\n"
   ]
  },
  {
   "cell_type": "code",
   "execution_count": 33,
   "metadata": {},
   "outputs": [],
   "source": [
    "csv_files = glob.glob(rf'D:\\Datasets\\Illegal Fishing\\Original Data\\Ship data\\*.csv')\n",
    "\n",
    "df_list = []\n",
    "\n",
    "# Loop through each file and add the shiptype column\n",
    "for file in csv_files:\n",
    "\n",
    "    df = pd.read_csv(file)\n",
    "    shiptype = os.path.basename(file).replace('.csv', '')\n",
    "\n",
    "    # Drop rows where is_fishing = -1\n",
    "    df = df[df['is_fishing'] != -1]\n",
    "\n",
    "    df['shiptype'] = shiptype\n",
    "    df_list.append(df)\n",
    "\n",
    "ship_data = pd.concat(df_list, ignore_index=True)\n",
    "\n",
    "ship_data['timestamp'] = pd.to_datetime(ship_data['timestamp'], unit='s')\n",
    "if 'Unnamed: 0' in ship_data.columns:\n",
    "    ship_data.drop(columns=['Unnamed: 0'], inplace=True)\n"
   ]
  },
  {
   "cell_type": "code",
   "execution_count": 34,
   "metadata": {},
   "outputs": [
    {
     "data": {
      "text/plain": [
       "is_fishing\n",
       "0    300766\n",
       "1    253089\n",
       "Name: count, dtype: int64"
      ]
     },
     "execution_count": 34,
     "metadata": {},
     "output_type": "execute_result"
    }
   ],
   "source": [
    "# Define the custom function for mapping ranges\n",
    "def map_range(x):\n",
    "    if 0 <= x < 0.5 :\n",
    "        return 0\n",
    "    elif 0.5 <= x <= 1:\n",
    "        return 1\n",
    "     \n",
    "ship_data['is_fishing'] = ship_data['is_fishing'].apply(map_range)\n",
    "\n",
    "# Define the mapping\n",
    "gear_type_mapping = {\n",
    "    'drifting_longlines': 0,\n",
    "    'fixed_gear': 1,\n",
    "    'pole_and_line': 2,\n",
    "    'purse_seines': 3,\n",
    "    'trawlers': 4,\n",
    "    'trollers': 5,\n",
    "    'unknown': 6\n",
    "}\n",
    "\n",
    "\n",
    "ship_data['gear_type_encoded'] = ship_data['shiptype'].map(gear_type_mapping)\n",
    "\n",
    "ship_data.to_csv(rf'D:\\Datasets\\Illegal Fishing\\Processed Data\\Complete_ship_data.csv',index=False)\n",
    "ship_data['is_fishing'].value_counts()"
   ]
  },
  {
   "cell_type": "code",
   "execution_count": null,
   "metadata": {},
   "outputs": [],
   "source": [
    "# File paths\n",
    "gdb_path_ocean = rf'D:\\Datasets\\Illegal Fishing\\Original Data\\ne_110m_ocean\\ne_110m_ocean.shp'\n",
    "ocean_data = gpd.read_file(gdb_path_ocean)\n",
    "\n",
    "\n",
    "geometry = [Point(lon, lat) for lon, lat in zip(ship_data['lon'], ship_data['lat'])]\n",
    "ship_gdf = gpd.GeoDataFrame(ship_data, geometry=geometry, crs='EPSG:4326')  \n",
    "\n",
    "filtered_ships = gpd.sjoin(ship_gdf, ocean_data, how='inner', predicate='within')\n",
    "\n"
   ]
  },
  {
   "cell_type": "code",
   "execution_count": null,
   "metadata": {},
   "outputs": [
    {
     "name": "stdout",
     "output_type": "stream",
     "text": [
      "Filtered ship data saved as CSV.\n",
      "Index(['mmsi', 'timestamp', 'distance_from_shore', 'distance_from_port',\n",
      "       'speed', 'course', 'lat', 'lon', 'is_fishing', 'source', 'shiptype',\n",
      "       'gear_type_encoded', 'geometry'],\n",
      "      dtype='object')\n"
     ]
    }
   ],
   "source": [
    "\n",
    "# Keep certain cols\n",
    "keep_cols = ['vessel_id', 'speed', 'distance_from_shore', 'distance_from_port', \n",
    "                 'lat', 'lon', 'prediction', 'status', 'geometry']\n",
    "    \n",
    "filtered_ships = filtered_ships.loc[:, keep_cols]\n",
    "\n",
    "# Save the filtered DataFrame to CSV\n",
    "filtered_ships_path = rf'D:\\Datasets\\Illegal Fishing\\Processed Data\\Filtered_Ships_in_Ocean.csv'\n",
    "filtered_ships.to_csv(filtered_ships_path, index=False)\n",
    "\n",
    "print(\"Filtered ship data saved as CSV.\")\n",
    "\n",
    "# Check the columns after dropping\n",
    "print(filtered_ships.columns)\n"
   ]
  },
  {
   "cell_type": "code",
   "execution_count": null,
   "metadata": {},
   "outputs": [],
   "source": [
    "\n",
    "mpa_data = gpd.read_file(r\"D:\\Datasets\\Illegal Fishing\\Original Data\\mpatlas_export_geo_202503_BhMDKpV\\mpatlas_export_geo_202503\\mpatlas_export_geo_202503\\mpatlas_export_geo_202503\\mpatlas_export_mar2025.gdb\", layer='zoneassessment_geom').to_crs(epsg=4326)\n",
    "\n",
    "\n",
    "intersections = gpd.sjoin(filtered_ships, mpa_data, how='inner', predicate='within')\n",
    "intersecting_indices = intersections.index.unique()\n",
    "\n",
    "# Assign 'illegal' status\n",
    "def assign_illegal_status(row):\n",
    "    if row.name in intersecting_indices:\n",
    "        return 'yes' if row['is_fishing'] == 1 else 'maybe'\n",
    "    return 'no'\n",
    "\n",
    "filtered_ships['illegal'] = filtered_ships.apply(assign_illegal_status, axis=1)\n",
    "\n",
    "# Save result\n",
    "filtered_ships.drop(columns='geometry').to_csv(rf'D:\\Datasets\\Illegal Fishing\\Processed Data\\Filtered_Ships_with_Illegal_Status.csv', index=False)\n"
   ]
  }
 ],
 "metadata": {
  "kernelspec": {
   "display_name": "Python 3",
   "language": "python",
   "name": "python3"
  },
  "language_info": {
   "codemirror_mode": {
    "name": "ipython",
    "version": 3
   },
   "file_extension": ".py",
   "mimetype": "text/x-python",
   "name": "python",
   "nbconvert_exporter": "python",
   "pygments_lexer": "ipython3",
   "version": "3.12.3"
  }
 },
 "nbformat": 4,
 "nbformat_minor": 2
}
